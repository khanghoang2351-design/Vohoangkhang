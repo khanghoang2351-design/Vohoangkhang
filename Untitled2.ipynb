{
  "nbformat": 4,
  "nbformat_minor": 0,
  "metadata": {
    "colab": {
      "provenance": [],
      "authorship_tag": "ABX9TyOLhoxd868+wmDewy2YmdHe",
      "include_colab_link": true
    },
    "kernelspec": {
      "name": "python3",
      "display_name": "Python 3"
    },
    "language_info": {
      "name": "python"
    }
  },
  "cells": [
    {
      "cell_type": "markdown",
      "metadata": {
        "id": "view-in-github",
        "colab_type": "text"
      },
      "source": [
        "<a href=\"https://colab.research.google.com/github/khanghoang2351-design/Vohoangkhang/blob/main/Untitled2.ipynb\" target=\"_parent\"><img src=\"https://colab.research.google.com/assets/colab-badge.svg\" alt=\"Open In Colab\"/></a>"
      ]
    },
    {
      "cell_type": "code",
      "execution_count": 2,
      "metadata": {
        "colab": {
          "base_uri": "https://localhost:8080/",
          "height": 645
        },
        "id": "YTyRTo-g2G5d",
        "outputId": "197a55a9-10e6-4ccd-8f60-ce47aa613ac4"
      },
      "outputs": [
        {
          "output_type": "stream",
          "name": "stderr",
          "text": [
            "/usr/local/lib/python3.12/dist-packages/keras/src/layers/core/dense.py:93: UserWarning: Do not pass an `input_shape`/`input_dim` argument to a layer. When using Sequential models, prefer using an `Input(shape)` object as the first layer in the model instead.\n",
            "  super().__init__(activity_regularizer=activity_regularizer, **kwargs)\n"
          ]
        },
        {
          "output_type": "stream",
          "name": "stdout",
          "text": [
            "Colab notebook detected. To show errors in colab notebook, set debug=True in launch()\n",
            "* Running on public URL: https://a6478fccc7801872be.gradio.live\n",
            "\n",
            "This share link expires in 1 week. For free permanent hosting and GPU upgrades, run `gradio deploy` from the terminal in the working directory to deploy to Hugging Face Spaces (https://huggingface.co/spaces)\n"
          ]
        },
        {
          "output_type": "display_data",
          "data": {
            "text/plain": [
              "<IPython.core.display.HTML object>"
            ],
            "text/html": [
              "<div><iframe src=\"https://a6478fccc7801872be.gradio.live\" width=\"100%\" height=\"500\" allow=\"autoplay; camera; microphone; clipboard-read; clipboard-write;\" frameborder=\"0\" allowfullscreen></iframe></div>"
            ]
          },
          "metadata": {}
        },
        {
          "output_type": "execute_result",
          "data": {
            "text/plain": []
          },
          "metadata": {},
          "execution_count": 2
        }
      ],
      "source": [
        "import pandas as pd\n",
        "import numpy as np\n",
        "import matplotlib.pyplot as plt\n",
        "from keras.models import Sequential\n",
        "from keras.layers import Dense, Dropout\n",
        "from sklearn.model_selection import train_test_split\n",
        "from sklearn.preprocessing import StandardScaler\n",
        "import gradio as gr\n",
        "\n",
        "\n",
        "url = \"https://archive.ics.uci.edu/ml/machine-learning-databases/abalone/abalone.data\"\n",
        "columns = ['Sex', 'Length', 'Diameter', 'Height', 'WholeWeight',\n",
        "           'ShuckedWeight', 'VisceraWeight', 'ShellWeight', 'Rings']\n",
        "\n",
        "df = pd.read_csv(url, names=columns)\n",
        "\n",
        "\n",
        "df = pd.get_dummies(df, columns=['Sex'])\n",
        "\n",
        "X = df.drop('Rings', axis=1)\n",
        "y = df['Rings'] + 6\n",
        "\n",
        "scaler = StandardScaler()\n",
        "X = scaler.fit_transform(X)\n",
        "\n",
        "\n",
        "from sklearn.model_selection import train_test_split\n",
        "X_train, X_test, y_train, y_test = train_test_split(X, y, test_size=0.2, random_state=42)\n",
        "\n",
        "model = Sequential([\n",
        "    Dense(64, activation='relu', input_shape=(X_train.shape[1],)),\n",
        "    Dropout(0.3),\n",
        "    Dense(32, activation='relu'),\n",
        "    Dropout(0.3),\n",
        "    Dense(1, activation='linear')\n",
        "])\n",
        "\n",
        "model.compile(optimizer='adam', loss='mse', metrics=['mae'])\n",
        "\n",
        "\n",
        "history = model.fit(\n",
        "    X_train, y_train,\n",
        "    validation_split=0.1,\n",
        "    epochs=100,\n",
        "    batch_size=32,\n",
        "    verbose=0\n",
        ")\n",
        "\n",
        "\n",
        "def predict_abalone(sex, length, diameter, height, whole, shucked, viscera, shell):\n",
        "\n",
        "    if sex == \"F\": sex_onehot = [1,0,0]\n",
        "    elif sex == \"I\": sex_onehot = [0,1,0]\n",
        "    else: sex_onehot = [0,0,1]\n",
        "\n",
        "\n",
        "    sample = np.array([sex_onehot + [length, diameter, height, whole, shucked, viscera, shell]])\n",
        "    sample = scaler.transform(sample)\n",
        "    prediction = model.predict(sample)\n",
        "    return f\"Tuổi bào ngư dự đoán: {prediction[0][0]:.2f} năm\"\n",
        "\n",
        "iface = gr.Interface(\n",
        "    fn=predict_abalone,\n",
        "    inputs=[\n",
        "        gr.Radio([\"M\",\"F\",\"I\"], label=\"Giới tính\"),\n",
        "        gr.Number(label=\"Chiều dài\"),\n",
        "        gr.Number(label=\"Đường kính\"),\n",
        "        gr.Number(label=\"Chiều cao\"),\n",
        "        gr.Number(label=\"Trọng lượng toàn thân\"),\n",
        "        gr.Number(label=\"Trọng lượng bỏ vỏ\"),\n",
        "        gr.Number(label=\"Trọng lượng nội tạng\"),\n",
        "        gr.Number(label=\"Trọng lượng vỏ\")\n",
        "    ],\n",
        "    outputs=\"text\",\n",
        "    title=\"Dự đoán tuổi bào ngư\",\n",
        "    description=\"Nhập thông số bào ngư để dự đoán tuổi.\"\n",
        ")\n",
        "\n",
        "iface.launch(share=True)\n"
      ]
    }
  ]
}