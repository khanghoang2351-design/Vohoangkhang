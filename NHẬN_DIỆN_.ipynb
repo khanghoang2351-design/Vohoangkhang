{
  "nbformat": 4,
  "nbformat_minor": 0,
  "metadata": {
    "colab": {
      "provenance": [],
      "gpuType": "T4",
      "mount_file_id": "1fvoL6ViW-0rugztq7hlrHqmfwz4jjFtL",
      "authorship_tag": "ABX9TyP7DEd/WGKEqa4vMrz8Pt9N",
      "include_colab_link": true
    },
    "kernelspec": {
      "name": "python3",
      "display_name": "Python 3"
    },
    "language_info": {
      "name": "python"
    },
    "accelerator": "GPU"
  },
  "cells": [
    {
      "cell_type": "markdown",
      "metadata": {
        "id": "view-in-github",
        "colab_type": "text"
      },
      "source": [
        "<a href=\"https://colab.research.google.com/github/khanghoang2351-design/Vohoangkhang/blob/main/NH%E1%BA%ACN_DI%E1%BB%86N_.ipynb\" target=\"_parent\"><img src=\"https://colab.research.google.com/assets/colab-badge.svg\" alt=\"Open In Colab\"/></a>"
      ]
    },
    {
      "cell_type": "code",
      "execution_count": null,
      "metadata": {
        "colab": {
          "base_uri": "https://localhost:8080/",
          "height": 533
        },
        "id": "bJtkFYr1fBQV",
        "outputId": "f2c3cf75-f804-4631-e662-f62dbf5c224a"
      },
      "outputs": [
        {
          "output_type": "stream",
          "name": "stdout",
          "text": [
            "Epoch 1/5\n",
            "\u001b[1m469/469\u001b[0m \u001b[32m━━━━━━━━━━━━━━━━━━━━\u001b[0m\u001b[37m\u001b[0m \u001b[1m3s\u001b[0m 4ms/step - accuracy: 0.8702 - loss: 0.4502\n",
            "Epoch 2/5\n",
            "\u001b[1m469/469\u001b[0m \u001b[32m━━━━━━━━━━━━━━━━━━━━\u001b[0m\u001b[37m\u001b[0m \u001b[1m2s\u001b[0m 3ms/step - accuracy: 0.9653 - loss: 0.1175\n",
            "Epoch 3/5\n",
            "\u001b[1m469/469\u001b[0m \u001b[32m━━━━━━━━━━━━━━━━━━━━\u001b[0m\u001b[37m\u001b[0m \u001b[1m1s\u001b[0m 2ms/step - accuracy: 0.9772 - loss: 0.0757\n",
            "Epoch 4/5\n",
            "\u001b[1m469/469\u001b[0m \u001b[32m━━━━━━━━━━━━━━━━━━━━\u001b[0m\u001b[37m\u001b[0m \u001b[1m1s\u001b[0m 2ms/step - accuracy: 0.9857 - loss: 0.0506\n",
            "Epoch 5/5\n",
            "\u001b[1m469/469\u001b[0m \u001b[32m━━━━━━━━━━━━━━━━━━━━\u001b[0m\u001b[37m\u001b[0m \u001b[1m1s\u001b[0m 2ms/step - accuracy: 0.9890 - loss: 0.0377\n"
          ]
        },
        {
          "output_type": "stream",
          "name": "stderr",
          "text": [
            "WARNING:absl:You are saving your model as an HDF5 file via `model.save()` or `keras.saving.save_model(model)`. This file format is considered legacy. We recommend using instead the native Keras format, e.g. `model.save('my_model.keras')` or `keras.saving.save_model(model, 'my_model.keras')`. \n",
            "WARNING:absl:Compiled the loaded model, but the compiled metrics have yet to be built. `model.compile_metrics` will be empty until you train or evaluate the model.\n"
          ]
        },
        {
          "output_type": "stream",
          "name": "stdout",
          "text": [
            "\u001b[1m1/1\u001b[0m \u001b[32m━━━━━━━━━━━━━━━━━━━━\u001b[0m\u001b[37m\u001b[0m \u001b[1m0s\u001b[0m 257ms/step\n"
          ]
        },
        {
          "output_type": "display_data",
          "data": {
            "text/plain": [
              "<Figure size 640x480 with 2 Axes>"
            ],
            "image/png": "[encoded data removed]"
          },
          "metadata": {}
        }
      ],
      "source": [
        "from keras.datasets import mnist\n",
        "(x_train, y_train), (x_test, y_test) = mnist.load_data()\n",
        "import matplotlib.pyplot as plt\n",
        "#plt.imshow(x_train[600], cmap = plt.cm.binary)\n",
        "#plt.show()\n",
        "#print(y_train[600])\n",
        "\n",
        "#for i in range(25) :\n",
        "#    plt.subplot(5,5,i+1)\n",
        "#    plt.imshow(x_train[300+i], cmap = 'gray' , interpolation = 'none')\n",
        "#    plt.title('so : {}'.format(y_train[300+i]))\n",
        "#chuan hoa\n",
        "x_train = x_train.reshape((60000,28*28))\n",
        "x_train = x_train.astype('float32')/255\n",
        "x_test = x_test.reshape((10000,28*28))\n",
        "x_test = x_test.astype('float32')/255\n",
        "\n",
        "from keras.utils import to_categorical #chia thanh nhieu nhom -> ONe hot encoding\n",
        "y_train = to_categorical(y_train)\n",
        "y_test = to_categorical(y_test)\n",
        "\n",
        "#tao mo hinh\n",
        "\n",
        "from keras.models import Sequential\n",
        "from keras.layers import Dense\n",
        "model = Sequential()\n",
        "model.add(Dense(512, activation = 'relu', input_shape = (28*28,)))\n",
        "model.add(Dense(10, activation = 'softmax'))\n",
        "model.compile(optimizer = 'rmsprop', loss = 'categorical_crossentropy', metrics = ['accuracy'])\n",
        "model.fit(x_train, y_train, epochs = 5, batch_size = 128)\n",
        "\n",
        "#luu ma tran bawng model.save('final_model.h5')\n",
        "model.save('final_model.h5')\n",
        "# tải nó lại bằng lệnh from keras.model import load_model\n",
        "#model1 = load_model('final_model.h5')\n",
        "#start\n",
        "\n",
        "import numpy as np\n",
        "import cv2\n",
        "from keras.models import load_model\n",
        "model = load_model('final_model.h5')\n",
        "img = cv2.imread('h1.jpg')\n",
        "img_rgb = cv2.cvtColor(img, cv2.COLOR_BGR2RGB)\n",
        "\n",
        "img_gray = cv2.cvtColor(img_rgb, cv2.COLOR_RGB2GRAY)\n",
        "img_gray = cv2.resize(img_gray, (28,28))\n",
        "img_inverted = 255 - img_gray\n",
        "img_ready = img_inverted.reshape(1, 28*28).astype('float32')/255\n",
        "\n",
        "preds = model.predict(img_ready)\n",
        "digit = np.argmax(preds)\n",
        "\n",
        "#hien thi\n",
        "plt.subplot(1,2,1)\n",
        "plt.imshow(img)\n",
        "plt.subplot(1,2,2)\n",
        "plt.imshow(img_ready.reshape(28,28) , cmap = \"gray\")\n",
        "plt.show()"
      ]
    },
    {
      "cell_type": "code",
      "source": [
        "\n",
        "import os, cv2, numpy as np\n",
        "from tensorflow.keras.utils import to_categorical\n",
        "from tensorflow.keras.models import Sequential\n",
        "from tensorflow.keras.layers import Dense, Dropout\n",
        "from tensorflow.keras.models import load_model\n",
        "from tensorflow.keras.preprocessing.image import ImageDataGenerator\n",
        "from google.colab import drive\n",
        "\n",
        "drive.mount('/content/drive')\n",
        "\n",
        "train_path = \"/content/drive/MyDrive/tien_mono/TIỀN_MONO/Train\"\n",
        "test_path  = \"/content/drive/MyDrive/tien_mono/TIỀN_MONO/Test\"\n",
        "save_model_path = \"/content/drive/MyDrive/tien_mono/money_ann_gray.h5\"\n",
        "\n",
        "labels = [\"1000vnd\",\"2000vnd\",\"5000vnd\",\"10000vnd\",\"20000vnd\",\"50000vnd\"]\n",
        "img_size = 32\n",
        "\n",
        "#load\n",
        "def load_images(folder, labels, augment=False):\n",
        "    X, y = [], []\n",
        "    for fname in os.listdir(folder):\n",
        "        path = os.path.join(folder, fname)\n",
        "        img = cv2.imread(path, cv2.IMREAD_GRAYSCALE)\n",
        "        if img is None: continue\n",
        "        label = None\n",
        "        for lb in labels:\n",
        "            if lb in fname.lower() or lb.replace(\"vnd\",\"_test\") in fname.lower():\n",
        "                label = lb\n",
        "                break\n",
        "        if label is None: continue\n",
        "        img = cv2.resize(img, (img_size,img_size))\n",
        "        img = img.astype(\"float32\") / 255.0\n",
        "        X.append(img.flatten())\n",
        "        y.append(labels.index(label))\n",
        "\n",
        "\n",
        "        if augment:\n",
        "\n",
        "            for angle in [-5,5]:\n",
        "                M = cv2.getRotationMatrix2D((img_size//2,img_size//2), angle, 1)\n",
        "                img_rot = cv2.warpAffine(img, M, (img_size,img_size))\n",
        "                X.append(img_rot.flatten())\n",
        "                y.append(labels.index(label))\n",
        "\n",
        "            img_bright = np.clip(img*1.1,0,1)\n",
        "            X.append(img_bright.flatten())\n",
        "            y.append(labels.index(label))\n",
        "            img_dark = np.clip(img*0.9,0,1)\n",
        "            X.append(img_dark.flatten())\n",
        "            y.append(labels.index(label))\n",
        "\n",
        "    return np.array(X), to_categorical(np.array(y), num_classes=len(labels))\n",
        "\n",
        "X_train, y_train = load_images(train_path, labels, augment=True)\n",
        "X_test, y_test = load_images(test_path, labels)\n",
        "\n",
        "print(\"Train:\", X_train.shape, y_train.shape)\n",
        "print(\"Test :\", X_test.shape, y_test.shape)\n",
        "\n",
        "model = Sequential([\n",
        "    Dense(1024, activation='relu', input_shape=(img_size*img_size,)),\n",
        "    Dropout(0.3),\n",
        "    Dense(512, activation='relu'),\n",
        "    Dropout(0.3),\n",
        "    Dense(256, activation='relu'),\n",
        "    Dense(len(labels), activation='softmax')\n",
        "])\n",
        "model.compile(optimizer='adam', loss='categorical_crossentropy', metrics=['accuracy'])\n",
        "\n",
        "model.fit(X_train, y_train, epochs=30, batch_size=32, validation_data=(X_test, y_test))\n",
        "model.save(save_model_path)\n",
        "print(f\"✅ Model đã lưu tại: {save_model_path}\")\n"
      ],
      "metadata": {
        "id": "MIPvS_Ly7ddi",
        "colab": {
          "base_uri": "https://localhost:8080/"
        },
        "outputId": "609fd498-601c-405a-f5ba-9bd6ee14a79c"
      },
      "execution_count": 19,
      "outputs": [
        {
          "output_type": "stream",
          "name": "stdout",
          "text": [
            "Drive already mounted at /content/drive; to attempt to forcibly remount, call drive.mount(\"/content/drive\", force_remount=True).\n",
            "Train: (2900, 1024) (2900, 6)\n",
            "Test : (120, 1024) (120, 6)\n",
            "Epoch 1/30\n"
          ]
        },
        {
          "output_type": "stream",
          "name": "stderr",
          "text": [
            "/usr/local/lib/python3.12/dist-packages/keras/src/layers/core/dense.py:93: UserWarning: Do not pass an `input_shape`/`input_dim` argument to a layer. When using Sequential models, prefer using an `Input(shape)` object as the first layer in the model instead.\n",
            "  super().__init__(activity_regularizer=activity_regularizer, **kwargs)\n"
          ]
        },
        {
          "output_type": "stream",
          "name": "stdout",
          "text": [
            "\u001b[1m91/91\u001b[0m \u001b[32m━━━━━━━━━━━━━━━━━━━━\u001b[0m\u001b[37m\u001b[0m \u001b[1m6s\u001b[0m 27ms/step - accuracy: 0.3632 - loss: 1.5966 - val_accuracy: 0.8667 - val_loss: 0.3441\n",
            "Epoch 2/30\n",
            "\u001b[1m91/91\u001b[0m \u001b[32m━━━━━━━━━━━━━━━━━━━━\u001b[0m\u001b[37m\u001b[0m \u001b[1m0s\u001b[0m 3ms/step - accuracy: 0.8148 - loss: 0.4732 - val_accuracy: 0.9417 - val_loss: 0.1727\n",
            "Epoch 3/30\n",
            "\u001b[1m91/91\u001b[0m \u001b[32m━━━━━━━━━━━━━━━━━━━━\u001b[0m\u001b[37m\u001b[0m \u001b[1m1s\u001b[0m 3ms/step - accuracy: 0.9007 - loss: 0.2556 - val_accuracy: 0.9583 - val_loss: 0.1241\n",
            "Epoch 4/30\n",
            "\u001b[1m91/91\u001b[0m \u001b[32m━━━━━━━━━━━━━━━━━━━━\u001b[0m\u001b[37m\u001b[0m \u001b[1m1s\u001b[0m 3ms/step - accuracy: 0.9185 - loss: 0.2340 - val_accuracy: 0.9917 - val_loss: 0.0700\n",
            "Epoch 5/30\n",
            "\u001b[1m91/91\u001b[0m \u001b[32m━━━━━━━━━━━━━━━━━━━━\u001b[0m\u001b[37m\u001b[0m \u001b[1m0s\u001b[0m 3ms/step - accuracy: 0.9332 - loss: 0.1752 - val_accuracy: 1.0000 - val_loss: 0.0143\n",
            "Epoch 6/30\n",
            "\u001b[1m91/91\u001b[0m \u001b[32m━━━━━━━━━━━━━━━━━━━━\u001b[0m\u001b[37m\u001b[0m \u001b[1m0s\u001b[0m 3ms/step - accuracy: 0.9671 - loss: 0.0912 - val_accuracy: 0.9917 - val_loss: 0.0177\n",
            "Epoch 7/30\n",
            "\u001b[1m91/91\u001b[0m \u001b[32m━━━━━━━━━━━━━━━━━━━━\u001b[0m\u001b[37m\u001b[0m \u001b[1m0s\u001b[0m 3ms/step - accuracy: 0.9571 - loss: 0.1177 - val_accuracy: 1.0000 - val_loss: 0.0120\n",
            "Epoch 8/30\n",
            "\u001b[1m91/91\u001b[0m \u001b[32m━━━━━━━━━━━━━━━━━━━━\u001b[0m\u001b[37m\u001b[0m \u001b[1m0s\u001b[0m 3ms/step - accuracy: 0.9591 - loss: 0.1079 - val_accuracy: 1.0000 - val_loss: 0.0505\n",
            "Epoch 9/30\n",
            "\u001b[1m91/91\u001b[0m \u001b[32m━━━━━━━━━━━━━━━━━━━━\u001b[0m\u001b[37m\u001b[0m \u001b[1m0s\u001b[0m 3ms/step - accuracy: 0.9654 - loss: 0.1011 - val_accuracy: 1.0000 - val_loss: 0.0117\n",
            "Epoch 10/30\n",
            "\u001b[1m91/91\u001b[0m \u001b[32m━━━━━━━━━━━━━━━━━━━━\u001b[0m\u001b[37m\u001b[0m \u001b[1m0s\u001b[0m 3ms/step - accuracy: 0.9667 - loss: 0.0901 - val_accuracy: 1.0000 - val_loss: 0.0051\n",
            "Epoch 11/30\n",
            "\u001b[1m91/91\u001b[0m \u001b[32m━━━━━━━━━━━━━━━━━━━━\u001b[0m\u001b[37m\u001b[0m \u001b[1m0s\u001b[0m 3ms/step - accuracy: 0.9577 - loss: 0.1190 - val_accuracy: 1.0000 - val_loss: 0.0020\n",
            "Epoch 12/30\n",
            "\u001b[1m91/91\u001b[0m \u001b[32m━━━━━━━━━━━━━━━━━━━━\u001b[0m\u001b[37m\u001b[0m \u001b[1m0s\u001b[0m 4ms/step - accuracy: 0.9641 - loss: 0.0978 - val_accuracy: 1.0000 - val_loss: 0.0159\n",
            "Epoch 13/30\n",
            "\u001b[1m91/91\u001b[0m \u001b[32m━━━━━━━━━━━━━━━━━━━━\u001b[0m\u001b[37m\u001b[0m \u001b[1m0s\u001b[0m 3ms/step - accuracy: 0.9407 - loss: 0.1530 - val_accuracy: 1.0000 - val_loss: 0.0093\n",
            "Epoch 14/30\n",
            "\u001b[1m91/91\u001b[0m \u001b[32m━━━━━━━━━━━━━━━━━━━━\u001b[0m\u001b[37m\u001b[0m \u001b[1m0s\u001b[0m 3ms/step - accuracy: 0.9552 - loss: 0.1150 - val_accuracy: 1.0000 - val_loss: 0.0038\n",
            "Epoch 15/30\n",
            "\u001b[1m91/91\u001b[0m \u001b[32m━━━━━━━━━━━━━━━━━━━━\u001b[0m\u001b[37m\u001b[0m \u001b[1m0s\u001b[0m 3ms/step - accuracy: 0.9499 - loss: 0.1408 - val_accuracy: 0.9917 - val_loss: 0.0242\n",
            "Epoch 16/30\n",
            "\u001b[1m91/91\u001b[0m \u001b[32m━━━━━━━━━━━━━━━━━━━━\u001b[0m\u001b[37m\u001b[0m \u001b[1m0s\u001b[0m 3ms/step - accuracy: 0.9291 - loss: 0.1835 - val_accuracy: 1.0000 - val_loss: 0.0148\n",
            "Epoch 17/30\n",
            "\u001b[1m91/91\u001b[0m \u001b[32m━━━━━━━━━━━━━━━━━━━━\u001b[0m\u001b[37m\u001b[0m \u001b[1m0s\u001b[0m 3ms/step - accuracy: 0.9474 - loss: 0.1396 - val_accuracy: 0.9833 - val_loss: 0.0191\n",
            "Epoch 18/30\n",
            "\u001b[1m91/91\u001b[0m \u001b[32m━━━━━━━━━━━━━━━━━━━━\u001b[0m\u001b[37m\u001b[0m \u001b[1m0s\u001b[0m 3ms/step - accuracy: 0.9288 - loss: 0.1952 - val_accuracy: 0.9833 - val_loss: 0.0498\n",
            "Epoch 19/30\n",
            "\u001b[1m91/91\u001b[0m \u001b[32m━━━━━━━━━━━━━━━━━━━━\u001b[0m\u001b[37m\u001b[0m \u001b[1m0s\u001b[0m 3ms/step - accuracy: 0.9186 - loss: 0.2118 - val_accuracy: 1.0000 - val_loss: 0.0470\n",
            "Epoch 20/30\n",
            "\u001b[1m91/91\u001b[0m \u001b[32m━━━━━━━━━━━━━━━━━━━━\u001b[0m\u001b[37m\u001b[0m \u001b[1m0s\u001b[0m 3ms/step - accuracy: 0.9421 - loss: 0.1804 - val_accuracy: 0.9917 - val_loss: 0.0231\n",
            "Epoch 21/30\n",
            "\u001b[1m91/91\u001b[0m \u001b[32m━━━━━━━━━━━━━━━━━━━━\u001b[0m\u001b[37m\u001b[0m \u001b[1m0s\u001b[0m 3ms/step - accuracy: 0.9262 - loss: 0.1968 - val_accuracy: 0.9917 - val_loss: 0.0224\n",
            "Epoch 22/30\n",
            "\u001b[1m91/91\u001b[0m \u001b[32m━━━━━━━━━━━━━━━━━━━━\u001b[0m\u001b[37m\u001b[0m \u001b[1m0s\u001b[0m 5ms/step - accuracy: 0.9165 - loss: 0.2297 - val_accuracy: 0.9917 - val_loss: 0.0478\n",
            "Epoch 23/30\n",
            "\u001b[1m91/91\u001b[0m \u001b[32m━━━━━━━━━━━━━━━━━━━━\u001b[0m\u001b[37m\u001b[0m \u001b[1m1s\u001b[0m 4ms/step - accuracy: 0.9348 - loss: 0.1895 - val_accuracy: 1.0000 - val_loss: 0.0155\n",
            "Epoch 24/30\n",
            "\u001b[1m91/91\u001b[0m \u001b[32m━━━━━━━━━━━━━━━━━━━━\u001b[0m\u001b[37m\u001b[0m \u001b[1m1s\u001b[0m 5ms/step - accuracy: 0.9570 - loss: 0.1203 - val_accuracy: 1.0000 - val_loss: 0.0187\n",
            "Epoch 25/30\n",
            "\u001b[1m91/91\u001b[0m \u001b[32m━━━━━━━━━━━━━━━━━━━━\u001b[0m\u001b[37m\u001b[0m \u001b[1m1s\u001b[0m 4ms/step - accuracy: 0.9283 - loss: 0.1742 - val_accuracy: 1.0000 - val_loss: 0.0193\n",
            "Epoch 26/30\n",
            "\u001b[1m91/91\u001b[0m \u001b[32m━━━━━━━━━━━━━━━━━━━━\u001b[0m\u001b[37m\u001b[0m \u001b[1m0s\u001b[0m 5ms/step - accuracy: 0.9191 - loss: 0.2276 - val_accuracy: 1.0000 - val_loss: 0.0073\n",
            "Epoch 27/30\n",
            "\u001b[1m91/91\u001b[0m \u001b[32m━━━━━━━━━━━━━━━━━━━━\u001b[0m\u001b[37m\u001b[0m \u001b[1m0s\u001b[0m 3ms/step - accuracy: 0.9523 - loss: 0.1293 - val_accuracy: 1.0000 - val_loss: 0.0053\n",
            "Epoch 28/30\n",
            "\u001b[1m91/91\u001b[0m \u001b[32m━━━━━━━━━━━━━━━━━━━━\u001b[0m\u001b[37m\u001b[0m \u001b[1m0s\u001b[0m 3ms/step - accuracy: 0.9531 - loss: 0.1316 - val_accuracy: 1.0000 - val_loss: 0.0096\n",
            "Epoch 29/30\n",
            "\u001b[1m91/91\u001b[0m \u001b[32m━━━━━━━━━━━━━━━━━━━━\u001b[0m\u001b[37m\u001b[0m \u001b[1m0s\u001b[0m 3ms/step - accuracy: 0.9533 - loss: 0.1198 - val_accuracy: 1.0000 - val_loss: 0.0053\n",
            "Epoch 30/30\n",
            "\u001b[1m91/91\u001b[0m \u001b[32m━━━━━━━━━━━━━━━━━━━━\u001b[0m\u001b[37m\u001b[0m \u001b[1m0s\u001b[0m 3ms/step - accuracy: 0.9691 - loss: 0.0927 - val_accuracy: 1.0000 - val_loss: 0.0330\n"
          ]
        },
        {
          "output_type": "stream",
          "name": "stderr",
          "text": [
            "WARNING:absl:You are saving your model as an HDF5 file via `model.save()` or `keras.saving.save_model(model)`. This file format is considered legacy. We recommend using instead the native Keras format, e.g. `model.save('my_model.keras')` or `keras.saving.save_model(model, 'my_model.keras')`. \n"
          ]
        },
        {
          "output_type": "stream",
          "name": "stdout",
          "text": [
            "✅ Model đã lưu tại: /content/drive/MyDrive/tien_mono/money_ann_gray.h5\n"
          ]
        }
      ]
    },
    {
      "cell_type": "code",
      "source": [
        "import gradio as gr\n",
        "import cv2\n",
        "import numpy as np\n",
        "from tensorflow.keras.models import load_model\n",
        "\n",
        "model = load_model(\"/content/drive/MyDrive/tien_mono/money_ann_gray.h5\")\n",
        "labels = [\"1000vnd\",\"2000vnd\",\"5000vnd\",\"10000vnd\",\"20000vnd\",\"50000vnd\"]\n",
        "img_size = 32\n",
        "\n",
        "def predict(img):\n",
        "    img = cv2.cvtColor(img, cv2.COLOR_BGR2GRAY)\n",
        "    img = cv2.resize(img,(img_size,img_size))\n",
        "    img = img.astype(\"float32\")/255.0\n",
        "    img = img.flatten().reshape(1,-1)\n",
        "    pred = model.predict(img)\n",
        "    return labels[np.argmax(pred)]\n",
        "\n",
        "demo = gr.Interface(fn=predict, inputs=gr.Image(type=\"numpy\"), outputs=\"text\", title=\"Nhận diện tiền VNĐ\")\n",
        "demo.launch()\n"
      ],
      "metadata": {
        "colab": {
          "base_uri": "https://localhost:8080/",
          "height": 663
        },
        "id": "xs_IyRdDMu0Y",
        "outputId": "9f830a91-bbea-475c-8688-174abbe77855"
      },
      "execution_count": 20,
      "outputs": [
        {
          "output_type": "stream",
          "name": "stderr",
          "text": [
            "WARNING:absl:Compiled the loaded model, but the compiled metrics have yet to be built. `model.compile_metrics` will be empty until you train or evaluate the model.\n"
          ]
        },
        {
          "output_type": "stream",
          "name": "stdout",
          "text": [
            "It looks like you are running Gradio on a hosted Jupyter notebook, which requires `share=True`. Automatically setting `share=True` (you can turn this off by setting `share=False` in `launch()` explicitly).\n",
            "\n",
            "Colab notebook detected. To show errors in colab notebook, set debug=True in launch()\n",
            "* Running on public URL: https://e2ba993abeac8aa17b.gradio.live\n",
            "\n",
            "This share link expires in 1 week. For free permanent hosting and GPU upgrades, run `gradio deploy` from the terminal in the working directory to deploy to Hugging Face Spaces (https://huggingface.co/spaces)\n"
          ]
        },
        {
          "output_type": "display_data",
          "data": {
            "text/plain": [
              "<IPython.core.display.HTML object>"
            ],
            "text/html": [
              "<div><iframe src=\"https://e2ba993abeac8aa17b.gradio.live\" width=\"100%\" height=\"500\" allow=\"autoplay; camera; microphone; clipboard-read; clipboard-write;\" frameborder=\"0\" allowfullscreen></iframe></div>"
            ]
          },
          "metadata": {}
        },
        {
          "output_type": "execute_result",
          "data": {
            "text/plain": []
          },
          "metadata": {},
          "execution_count": 20
        }
      ]
    }
  ]
}